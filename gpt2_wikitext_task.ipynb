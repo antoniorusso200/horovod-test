{
 "cells": [
  {
   "cell_type": "code",
   "execution_count": 1,
   "id": "58e60f38",
   "metadata": {},
   "outputs": [
    {
     "name": "stderr",
     "output_type": "stream",
     "text": [
      "/Users/antoniorusso/Desktop/anaconda3/envs/horovod_test/lib/python3.11/site-packages/tqdm/auto.py:21: TqdmWarning: IProgress not found. Please update jupyter and ipywidgets. See https://ipywidgets.readthedocs.io/en/stable/user_install.html\n",
      "  from .autonotebook import tqdm as notebook_tqdm\n"
     ]
    }
   ],
   "source": [
    "\n",
    "import torch\n",
    "from transformers import GPT2LMHeadModel, GPT2Tokenizer\n",
    "from transformers import TextDataset, DataCollatorForLanguageModeling\n",
    "from transformers import Trainer, TrainingArguments\n",
    "import horovod.torch as hvd\n"
   ]
  },
  {
   "cell_type": "code",
   "execution_count": 2,
   "id": "bc635ff1",
   "metadata": {},
   "outputs": [],
   "source": [
    "\n",
    "# Set up model, tokenizer, and device\n",
    "#model_name = \"gpt2\"\n",
    "#tokenizer = GPT2Tokenizer.from_pretrained(model_name)\n",
    "#model = GPT2LMHeadModel.from_pretrained(model_name)\n",
    "\n",
    "# Initialize Horovod\n",
    "hvd.init()\n",
    "\n",
    "# Carica il modello e il tokenizer DistilGPT-2\n",
    "model_name = 'distilgpt2'\n",
    "model = GPT2LMHeadModel.from_pretrained(model_name)\n",
    "tokenizer = GPT2Tokenizer.from_pretrained(model_name)\n",
    "\n",
    "# Adjust the model for distributed training\n",
    "device = torch.device(\"cuda\" if torch.cuda.is_available() and not hvd.local_rank() else \"cpu\")\n",
    "model.to(device)\n",
    "\n",
    "# Broadcast parameters from rank 0 to ensure all ranks start from the same weights\n",
    "hvd.broadcast_parameters(model.state_dict(), root_rank=0)\n"
   ]
  },
  {
   "cell_type": "code",
   "execution_count": 3,
   "id": "69d1be4c",
   "metadata": {},
   "outputs": [
    {
     "name": "stdout",
     "output_type": "stream",
     "text": [
      "['text']\n",
      "['text']\n"
     ]
    }
   ],
   "source": [
    "\n",
    "from datasets import load_dataset\n",
    "\n",
    "train_dataset = load_dataset(\"wikitext\", \"wikitext-2-raw-v1\", split=\"train\")\n",
    "val_dataset = load_dataset(\"wikitext\", \"wikitext-2-raw-v1\", split=\"validation\")\n",
    "\n",
    "\n",
    "data_collator = DataCollatorForLanguageModeling(\n",
    "    tokenizer=tokenizer, mlm=False\n",
    ")\n",
    "\n",
    "print(train_dataset.column_names)\n",
    "print(val_dataset.column_names)\n",
    "\n"
   ]
  },
  {
   "cell_type": "code",
   "execution_count": null,
   "id": "a38bdbc7",
   "metadata": {},
   "outputs": [
    {
     "data": {
      "text/html": [
       "\n",
       "    <div>\n",
       "      \n",
       "      <progress value='136' max='27540' style='width:300px; height:20px; vertical-align: middle;'></progress>\n",
       "      [  136/27540 15:11 < 51:47:40, 0.15 it/s, Epoch 0.01/3]\n",
       "    </div>\n",
       "    <table border=\"1\" class=\"dataframe\">\n",
       "  <thead>\n",
       " <tr style=\"text-align: left;\">\n",
       "      <th>Step</th>\n",
       "      <th>Training Loss</th>\n",
       "    </tr>\n",
       "  </thead>\n",
       "  <tbody>\n",
       "  </tbody>\n",
       "</table><p>"
      ],
      "text/plain": [
       "<IPython.core.display.HTML object>"
      ]
     },
     "metadata": {},
     "output_type": "display_data"
    }
   ],
   "source": [
    "from datasets import Dataset\n",
    "from transformers import Trainer, TrainingArguments, DataCollatorForLanguageModeling, AutoTokenizer\n",
    "import torch\n",
    "import horovod.torch as hvd\n",
    "\n",
    "# Ensure padding token is set if it's not already\n",
    "if tokenizer.pad_token is None:\n",
    "    tokenizer.pad_token = tokenizer.eos_token\n",
    "\n",
    "# Tokenize train and validation datasets\n",
    "train_dataset = tokenizer(train_dataset['text'], \n",
    "                           max_length=1024, \n",
    "                           padding='max_length', \n",
    "                           truncation=True, \n",
    "                           return_tensors=\"pt\")\n",
    "\n",
    "val_dataset = tokenizer(val_dataset['text'], \n",
    "                         max_length=1024, \n",
    "                         padding='max_length', \n",
    "                         truncation=True, \n",
    "                         return_tensors=\"pt\")\n",
    "\n",
    "# Convert to Dataset objects if needed (use `datasets` library's `Dataset` class)\n",
    "train_dataset = Dataset.from_dict(train_dataset)\n",
    "val_dataset = Dataset.from_dict(val_dataset)\n",
    "\n",
    "# TrainingArguments configuration\n",
    "training_args = TrainingArguments(\n",
    "    output_dir=\"./results\",\n",
    "    overwrite_output_dir=True,\n",
    "    num_train_epochs=3,\n",
    "    per_device_train_batch_size=4,\n",
    "    save_steps=10_000,\n",
    "    save_total_limit=2,\n",
    "    logging_dir=\"./logs\",\n",
    "    logging_steps=500,\n",
    "    remove_unused_columns=False,  # Ensure unused columns are kept\n",
    ")\n",
    "\n",
    "# Wrap optimizer with Horovod's DistributedOptimizer for synchronized gradient updates\n",
    "optimizer = torch.optim.AdamW(model.parameters(), lr=5e-5)\n",
    "optimizer = hvd.DistributedOptimizer(optimizer, named_parameters=model.named_parameters())\n",
    "\n",
    "# Broadcast the optimizer state from rank 0 to ensure all workers start with the same initial state\n",
    "hvd.broadcast_optimizer_state(optimizer, root_rank=0)\n",
    "\n",
    "\n",
    "# Set up the Trainer with Horovod support\n",
    "trainer = Trainer(\n",
    "    model=model,\n",
    "    args=training_args,\n",
    "    data_collator=DataCollatorForLanguageModeling(tokenizer=tokenizer, mlm=False),\n",
    "    train_dataset=train_dataset,\n",
    "    eval_dataset=val_dataset,\n",
    "    optimizers=(optimizer, None),  # Pass the optimizer to Trainer\n",
    ")\n",
    "\n",
    "# Run training\n",
    "if hvd.rank() == 0:\n",
    "    trainer.train()\n"
   ]
  }
 ],
 "metadata": {
  "kernelspec": {
   "display_name": "Python 3 (ipykernel)",
   "language": "python",
   "name": "python3"
  },
  "language_info": {
   "codemirror_mode": {
    "name": "ipython",
    "version": 3
   },
   "file_extension": ".py",
   "mimetype": "text/x-python",
   "name": "python",
   "nbconvert_exporter": "python",
   "pygments_lexer": "ipython3",
   "version": "3.11.0"
  }
 },
 "nbformat": 4,
 "nbformat_minor": 5
}
